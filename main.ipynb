{
 "cells": [
  {
   "cell_type": "code",
   "execution_count": 69,
   "metadata": {},
   "outputs": [],
   "source": [
    "import pandas as pd\n",
    "from sklearn.model_selection import train_test_split\n",
    "from sklearn.ensemble import RandomForestClassifier\n",
    "from sklearn.metrics import classification_report\n",
    "from sklearn.preprocessing import LabelEncoder\n",
    "\n",
    "data = pd.read_csv('newest.csv')\n",
    "data = data.dropna()"
   ]
  },
  {
   "cell_type": "code",
   "execution_count": 70,
   "metadata": {},
   "outputs": [],
   "source": [
    "lesym = LabelEncoder()\n",
    "ledis = LabelEncoder()\n",
    "\n",
    "data['Symptoms'] = lesym.fit_transform(data['Symptoms'])\n",
    "data['Disease'] = ledis.fit_transform(data['Disease'])\n",
    "\n",
    "x = data[['Symptoms', 'Age', 'Sex']] #features\n",
    "y = data['Disease'] #output"
   ]
  },
  {
   "cell_type": "code",
   "execution_count": null,
   "metadata": {},
   "outputs": [],
   "source": [
    "#dividing training and testing data and creating a randomforest model\n",
    "xtrain, xtest, ytrain, ytest = train_test_split(x,y,test_size=0.2, random_state=42)\n",
    "\n",
    "model = RandomForestClassifier(random_state=42)\n",
    "model.fit(xtrain, ytrain)"
   ]
  },
  {
   "cell_type": "code",
   "execution_count": 72,
   "metadata": {},
   "outputs": [
    {
     "name": "stdout",
     "output_type": "stream",
     "text": [
      "Training Accuracy: 0.95\n",
      "Testing Accuracy: 0.94\n"
     ]
    }
   ],
   "source": [
    "#training accuracy and testing accuracy\n",
    "print(f\"Training Accuracy: {model.score(xtrain, ytrain):.2f}\")\n",
    "print(f\"Testing Accuracy: {model.score(xtest, ytest):.2f}\")"
   ]
  },
  {
   "cell_type": "code",
   "execution_count": null,
   "metadata": {},
   "outputs": [],
   "source": [
    "custom_input = {\n",
    "    'Symptoms': ['coughing'],  \n",
    "    'Age': [56],\n",
    "    'Sex': [1], # 0  = female, 1 = male\n",
    "}\n",
    "df = pd.DataFrame(custom_input)\n",
    "\n",
    "df['Symptoms'] = lesym.transform(df['Symptoms'])\n",
    "\n",
    "predict = model.predict(df)\n",
    "\n",
    "predicted_label = ledis.inverse_transform(predict)\n",
    "print(f\"Predicted Disease: {predicted_label[0]}\")\n",
    "print(f\"Testing Accuracy: {model.score(xtest, ytest):.2f}\")"
   ]
  }
 ],
 "metadata": {
  "kernelspec": {
   "display_name": "Python 3",
   "language": "python",
   "name": "python3"
  },
  "language_info": {
   "codemirror_mode": {
    "name": "ipython",
    "version": 3
   },
   "file_extension": ".py",
   "mimetype": "text/x-python",
   "name": "python",
   "nbconvert_exporter": "python",
   "pygments_lexer": "ipython3",
   "version": "3.13.1"
  }
 },
 "nbformat": 4,
 "nbformat_minor": 2
}
